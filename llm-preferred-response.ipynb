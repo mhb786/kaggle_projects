{
 "cells": [
  {
   "cell_type": "markdown",
   "id": "120b0d44",
   "metadata": {
    "papermill": {
     "duration": 0.001974,
     "end_time": "2025-06-19T16:46:58.383362",
     "exception": false,
     "start_time": "2025-06-19T16:46:58.381388",
     "status": "completed"
    },
    "tags": []
   },
   "source": [
    "# 1. Understanding the Goal and Dataset\n",
    "\n",
    "We have been given a prompt, 2 responses and a label on what the human preferred. Our task is now to build a model to predict the probability of each class (model a wins, model b wins or tie),"
   ]
  },
  {
   "cell_type": "code",
   "execution_count": 1,
   "id": "1e5a0d45",
   "metadata": {
    "execution": {
     "iopub.execute_input": "2025-06-19T16:46:58.387987Z",
     "iopub.status.busy": "2025-06-19T16:46:58.387550Z",
     "iopub.status.idle": "2025-06-19T16:47:04.484523Z",
     "shell.execute_reply": "2025-06-19T16:47:04.483650Z"
    },
    "papermill": {
     "duration": 6.101013,
     "end_time": "2025-06-19T16:47:04.486058",
     "exception": false,
     "start_time": "2025-06-19T16:46:58.385045",
     "status": "completed"
    },
    "tags": []
   },
   "outputs": [
    {
     "data": {
      "text/plain": [
       "winner_model_a\n",
       "0    0.650921\n",
       "1    0.349079\n",
       "Name: proportion, dtype: float64"
      ]
     },
     "execution_count": 1,
     "metadata": {},
     "output_type": "execute_result"
    }
   ],
   "source": [
    "import pandas as pd\n",
    "\n",
    "base = '/kaggle/input/llm-classification-finetuning'\n",
    "df = pd.read_csv(f\"{base}/train.csv\")\n",
    "df['label'] = df[['winner_model_a', 'winner_model_b', 'winner_tie']].idxmax(axis=1).map({\n",
    "    'winner_model_a': 0,\n",
    "    'winner_model_b': 1,\n",
    "    'winner_tie': 2\n",
    "})\n",
    "\n",
    "df['prompt_len'] = df['prompt'].str.len()\n",
    "df['resp_a_len'] = df['response_a'].str.len()\n",
    "df['resp_b_len'] = df['response_b'].str.len()\n",
    "df['winner_model_a'].value_counts(normalize=True)\n"
   ]
  },
  {
   "cell_type": "markdown",
   "id": "28b730f4",
   "metadata": {
    "papermill": {
     "duration": 0.001291,
     "end_time": "2025-06-19T16:47:04.489075",
     "exception": false,
     "start_time": "2025-06-19T16:47:04.487784",
     "status": "completed"
    },
    "tags": []
   },
   "source": [
    "# 2. Plan Modelling Strategy"
   ]
  }
 ],
 "metadata": {
  "kaggle": {
   "accelerator": "none",
   "dataSources": [
    {
     "databundleVersionId": 9809560,
     "sourceId": 86518,
     "sourceType": "competition"
    }
   ],
   "dockerImageVersionId": 31040,
   "isGpuEnabled": false,
   "isInternetEnabled": true,
   "language": "python",
   "sourceType": "notebook"
  },
  "kernelspec": {
   "display_name": "Python 3",
   "language": "python",
   "name": "python3"
  },
  "language_info": {
   "codemirror_mode": {
    "name": "ipython",
    "version": 3
   },
   "file_extension": ".py",
   "mimetype": "text/x-python",
   "name": "python",
   "nbconvert_exporter": "python",
   "pygments_lexer": "ipython3",
   "version": "3.11.11"
  },
  "papermill": {
   "default_parameters": {},
   "duration": 11.475571,
   "end_time": "2025-06-19T16:47:05.010864",
   "environment_variables": {},
   "exception": null,
   "input_path": "__notebook__.ipynb",
   "output_path": "__notebook__.ipynb",
   "parameters": {},
   "start_time": "2025-06-19T16:46:53.535293",
   "version": "2.6.0"
  }
 },
 "nbformat": 4,
 "nbformat_minor": 5
}
