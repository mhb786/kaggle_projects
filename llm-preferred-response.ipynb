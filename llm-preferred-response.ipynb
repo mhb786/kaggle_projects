{
 "cells": [
  {
   "cell_type": "markdown",
   "id": "c1671d00",
   "metadata": {
    "papermill": {
     "duration": 0.004024,
     "end_time": "2025-06-24T21:51:45.353438",
     "exception": false,
     "start_time": "2025-06-24T21:51:45.349414",
     "status": "completed"
    },
    "tags": []
   },
   "source": [
    "# 1. Understanding the Goal and Dataset\n",
    "\n",
    "We have been given a prompt, 2 responses and a label on what the human preferred. Our task is now to build a model to predict the probability of each class (model a wins, model b wins or tie).\n",
    "\n",
    "Firstly we can create a label column which classifies the result into binary form."
   ]
  },
  {
   "cell_type": "markdown",
   "id": "50ca3936",
   "metadata": {
    "papermill": {
     "duration": 0.002939,
     "end_time": "2025-06-24T21:51:45.359838",
     "exception": false,
     "start_time": "2025-06-24T21:51:45.356899",
     "status": "completed"
    },
    "tags": []
   },
   "source": [
    "### Imports"
   ]
  },
  {
   "cell_type": "code",
   "execution_count": 1,
   "id": "9a88138b",
   "metadata": {
    "execution": {
     "iopub.execute_input": "2025-06-24T21:51:45.367520Z",
     "iopub.status.busy": "2025-06-24T21:51:45.367181Z",
     "iopub.status.idle": "2025-06-24T21:51:55.913955Z",
     "shell.execute_reply": "2025-06-24T21:51:55.913258Z"
    },
    "papermill": {
     "duration": 10.552611,
     "end_time": "2025-06-24T21:51:55.915634",
     "exception": false,
     "start_time": "2025-06-24T21:51:45.363023",
     "status": "completed"
    },
    "tags": []
   },
   "outputs": [],
   "source": [
    "import seaborn as sns\n",
    "import pandas as pd\n",
    "import plotly.express as px\n",
    "import plotly.io as pio\n",
    "\n",
    "import numpy as np\n",
    "from lightgbm import LGBMClassifier\n",
    "from sklearn.model_selection import train_test_split\n",
    "from sklearn.metrics import log_loss"
   ]
  },
  {
   "cell_type": "code",
   "execution_count": 2,
   "id": "1187a28e",
   "metadata": {
    "execution": {
     "iopub.execute_input": "2025-06-24T21:51:55.924085Z",
     "iopub.status.busy": "2025-06-24T21:51:55.923461Z",
     "iopub.status.idle": "2025-06-24T21:51:59.807318Z",
     "shell.execute_reply": "2025-06-24T21:51:59.806333Z"
    },
    "papermill": {
     "duration": 3.889562,
     "end_time": "2025-06-24T21:51:59.808724",
     "exception": false,
     "start_time": "2025-06-24T21:51:55.919162",
     "status": "completed"
    },
    "tags": []
   },
   "outputs": [
    {
     "data": {
      "text/html": [
       "<div>\n",
       "<style scoped>\n",
       "    .dataframe tbody tr th:only-of-type {\n",
       "        vertical-align: middle;\n",
       "    }\n",
       "\n",
       "    .dataframe tbody tr th {\n",
       "        vertical-align: top;\n",
       "    }\n",
       "\n",
       "    .dataframe thead th {\n",
       "        text-align: right;\n",
       "    }\n",
       "</style>\n",
       "<table border=\"1\" class=\"dataframe\">\n",
       "  <thead>\n",
       "    <tr style=\"text-align: right;\">\n",
       "      <th></th>\n",
       "      <th>id</th>\n",
       "      <th>model_a</th>\n",
       "      <th>model_b</th>\n",
       "      <th>prompt</th>\n",
       "      <th>response_a</th>\n",
       "      <th>response_b</th>\n",
       "      <th>winner_model_a</th>\n",
       "      <th>winner_model_b</th>\n",
       "      <th>winner_tie</th>\n",
       "      <th>label</th>\n",
       "      <th>prompt_len</th>\n",
       "      <th>resp_a_len</th>\n",
       "      <th>resp_b_len</th>\n",
       "    </tr>\n",
       "  </thead>\n",
       "  <tbody>\n",
       "    <tr>\n",
       "      <th>0</th>\n",
       "      <td>30192</td>\n",
       "      <td>gpt-4-1106-preview</td>\n",
       "      <td>gpt-4-0613</td>\n",
       "      <td>[\"Is it morally right to try to have a certain...</td>\n",
       "      <td>[\"The question of whether it is morally right ...</td>\n",
       "      <td>[\"As an AI, I don't have personal beliefs or o...</td>\n",
       "      <td>1</td>\n",
       "      <td>0</td>\n",
       "      <td>0</td>\n",
       "      <td>0</td>\n",
       "      <td>165</td>\n",
       "      <td>4538</td>\n",
       "      <td>1206</td>\n",
       "    </tr>\n",
       "    <tr>\n",
       "      <th>1</th>\n",
       "      <td>53567</td>\n",
       "      <td>koala-13b</td>\n",
       "      <td>gpt-4-0613</td>\n",
       "      <td>[\"What is the difference between marriage lice...</td>\n",
       "      <td>[\"A marriage license is a legal document that ...</td>\n",
       "      <td>[\"A marriage license and a marriage certificat...</td>\n",
       "      <td>0</td>\n",
       "      <td>1</td>\n",
       "      <td>0</td>\n",
       "      <td>1</td>\n",
       "      <td>200</td>\n",
       "      <td>3114</td>\n",
       "      <td>3649</td>\n",
       "    </tr>\n",
       "    <tr>\n",
       "      <th>2</th>\n",
       "      <td>65089</td>\n",
       "      <td>gpt-3.5-turbo-0613</td>\n",
       "      <td>mistral-medium</td>\n",
       "      <td>[\"explain function calling. how would you call...</td>\n",
       "      <td>[\"Function calling is the process of invoking ...</td>\n",
       "      <td>[\"Function calling is the process of invoking ...</td>\n",
       "      <td>0</td>\n",
       "      <td>0</td>\n",
       "      <td>1</td>\n",
       "      <td>2</td>\n",
       "      <td>60</td>\n",
       "      <td>921</td>\n",
       "      <td>1835</td>\n",
       "    </tr>\n",
       "    <tr>\n",
       "      <th>3</th>\n",
       "      <td>96401</td>\n",
       "      <td>llama-2-13b-chat</td>\n",
       "      <td>mistral-7b-instruct</td>\n",
       "      <td>[\"How can I create a test set for a very rare ...</td>\n",
       "      <td>[\"Creating a test set for a very rare category...</td>\n",
       "      <td>[\"When building a classifier for a very rare c...</td>\n",
       "      <td>1</td>\n",
       "      <td>0</td>\n",
       "      <td>0</td>\n",
       "      <td>0</td>\n",
       "      <td>87</td>\n",
       "      <td>3182</td>\n",
       "      <td>1562</td>\n",
       "    </tr>\n",
       "    <tr>\n",
       "      <th>4</th>\n",
       "      <td>198779</td>\n",
       "      <td>koala-13b</td>\n",
       "      <td>gpt-3.5-turbo-0314</td>\n",
       "      <td>[\"What is the best way to travel from Tel-Aviv...</td>\n",
       "      <td>[\"The best way to travel from Tel Aviv to Jeru...</td>\n",
       "      <td>[\"The best way to travel from Tel-Aviv to Jeru...</td>\n",
       "      <td>0</td>\n",
       "      <td>1</td>\n",
       "      <td>0</td>\n",
       "      <td>1</td>\n",
       "      <td>79</td>\n",
       "      <td>1300</td>\n",
       "      <td>772</td>\n",
       "    </tr>\n",
       "    <tr>\n",
       "      <th>...</th>\n",
       "      <td>...</td>\n",
       "      <td>...</td>\n",
       "      <td>...</td>\n",
       "      <td>...</td>\n",
       "      <td>...</td>\n",
       "      <td>...</td>\n",
       "      <td>...</td>\n",
       "      <td>...</td>\n",
       "      <td>...</td>\n",
       "      <td>...</td>\n",
       "      <td>...</td>\n",
       "      <td>...</td>\n",
       "      <td>...</td>\n",
       "    </tr>\n",
       "    <tr>\n",
       "      <th>57472</th>\n",
       "      <td>4294656694</td>\n",
       "      <td>gpt-4-0613</td>\n",
       "      <td>claude-1</td>\n",
       "      <td>[\"A simple mnemonic for \\u03c0:\\n\\\"How I wish ...</td>\n",
       "      <td>[\"Sure, let's break it down:\\n\\n1. \\\"How\\\" has...</td>\n",
       "      <td>[\"Here is how that mnemonic represents the dig...</td>\n",
       "      <td>1</td>\n",
       "      <td>0</td>\n",
       "      <td>0</td>\n",
       "      <td>0</td>\n",
       "      <td>157</td>\n",
       "      <td>396</td>\n",
       "      <td>557</td>\n",
       "    </tr>\n",
       "    <tr>\n",
       "      <th>57473</th>\n",
       "      <td>4294692063</td>\n",
       "      <td>claude-2.0</td>\n",
       "      <td>llama-2-13b-chat</td>\n",
       "      <td>[\"In python, implement a naive Bayes with gaus...</td>\n",
       "      <td>[\"Here is an implementation of a naive Bayes c...</td>\n",
       "      <td>[\"Sure! Here's an implementation of a naive Ba...</td>\n",
       "      <td>1</td>\n",
       "      <td>0</td>\n",
       "      <td>0</td>\n",
       "      <td>0</td>\n",
       "      <td>257</td>\n",
       "      <td>1707</td>\n",
       "      <td>1713</td>\n",
       "    </tr>\n",
       "    <tr>\n",
       "      <th>57474</th>\n",
       "      <td>4294710549</td>\n",
       "      <td>claude-1</td>\n",
       "      <td>alpaca-13b</td>\n",
       "      <td>[\"is it unethical to work on building weapons?...</td>\n",
       "      <td>[\"Working on weapons technology raises some et...</td>\n",
       "      <td>[\"It depends on the context. Weapons can be us...</td>\n",
       "      <td>1</td>\n",
       "      <td>0</td>\n",
       "      <td>0</td>\n",
       "      <td>0</td>\n",
       "      <td>273</td>\n",
       "      <td>8683</td>\n",
       "      <td>1558</td>\n",
       "    </tr>\n",
       "    <tr>\n",
       "      <th>57475</th>\n",
       "      <td>4294899228</td>\n",
       "      <td>palm-2</td>\n",
       "      <td>tulu-2-dpo-70b</td>\n",
       "      <td>[\"If a bait contains 0,0025% bromadiolon then ...</td>\n",
       "      <td>[\"Bromadiolone is a rodenticide which is most ...</td>\n",
       "      <td>[\"As an AI language model, I do not promote or...</td>\n",
       "      <td>0</td>\n",
       "      <td>1</td>\n",
       "      <td>0</td>\n",
       "      <td>1</td>\n",
       "      <td>110</td>\n",
       "      <td>435</td>\n",
       "      <td>969</td>\n",
       "    </tr>\n",
       "    <tr>\n",
       "      <th>57476</th>\n",
       "      <td>4294947231</td>\n",
       "      <td>gemini-pro-dev-api</td>\n",
       "      <td>gpt-4-1106-preview</td>\n",
       "      <td>[\"three kids eat three apples in three days, h...</td>\n",
       "      <td>[\"27 apples\"]</td>\n",
       "      <td>[\"If three kids eat three apples in three days...</td>\n",
       "      <td>1</td>\n",
       "      <td>0</td>\n",
       "      <td>0</td>\n",
       "      <td>0</td>\n",
       "      <td>95</td>\n",
       "      <td>13</td>\n",
       "      <td>526</td>\n",
       "    </tr>\n",
       "  </tbody>\n",
       "</table>\n",
       "<p>57477 rows × 13 columns</p>\n",
       "</div>"
      ],
      "text/plain": [
       "               id             model_a              model_b  \\\n",
       "0           30192  gpt-4-1106-preview           gpt-4-0613   \n",
       "1           53567           koala-13b           gpt-4-0613   \n",
       "2           65089  gpt-3.5-turbo-0613       mistral-medium   \n",
       "3           96401    llama-2-13b-chat  mistral-7b-instruct   \n",
       "4          198779           koala-13b   gpt-3.5-turbo-0314   \n",
       "...           ...                 ...                  ...   \n",
       "57472  4294656694          gpt-4-0613             claude-1   \n",
       "57473  4294692063          claude-2.0     llama-2-13b-chat   \n",
       "57474  4294710549            claude-1           alpaca-13b   \n",
       "57475  4294899228              palm-2       tulu-2-dpo-70b   \n",
       "57476  4294947231  gemini-pro-dev-api   gpt-4-1106-preview   \n",
       "\n",
       "                                                  prompt  \\\n",
       "0      [\"Is it morally right to try to have a certain...   \n",
       "1      [\"What is the difference between marriage lice...   \n",
       "2      [\"explain function calling. how would you call...   \n",
       "3      [\"How can I create a test set for a very rare ...   \n",
       "4      [\"What is the best way to travel from Tel-Aviv...   \n",
       "...                                                  ...   \n",
       "57472  [\"A simple mnemonic for \\u03c0:\\n\\\"How I wish ...   \n",
       "57473  [\"In python, implement a naive Bayes with gaus...   \n",
       "57474  [\"is it unethical to work on building weapons?...   \n",
       "57475  [\"If a bait contains 0,0025% bromadiolon then ...   \n",
       "57476  [\"three kids eat three apples in three days, h...   \n",
       "\n",
       "                                              response_a  \\\n",
       "0      [\"The question of whether it is morally right ...   \n",
       "1      [\"A marriage license is a legal document that ...   \n",
       "2      [\"Function calling is the process of invoking ...   \n",
       "3      [\"Creating a test set for a very rare category...   \n",
       "4      [\"The best way to travel from Tel Aviv to Jeru...   \n",
       "...                                                  ...   \n",
       "57472  [\"Sure, let's break it down:\\n\\n1. \\\"How\\\" has...   \n",
       "57473  [\"Here is an implementation of a naive Bayes c...   \n",
       "57474  [\"Working on weapons technology raises some et...   \n",
       "57475  [\"Bromadiolone is a rodenticide which is most ...   \n",
       "57476                                      [\"27 apples\"]   \n",
       "\n",
       "                                              response_b  winner_model_a  \\\n",
       "0      [\"As an AI, I don't have personal beliefs or o...               1   \n",
       "1      [\"A marriage license and a marriage certificat...               0   \n",
       "2      [\"Function calling is the process of invoking ...               0   \n",
       "3      [\"When building a classifier for a very rare c...               1   \n",
       "4      [\"The best way to travel from Tel-Aviv to Jeru...               0   \n",
       "...                                                  ...             ...   \n",
       "57472  [\"Here is how that mnemonic represents the dig...               1   \n",
       "57473  [\"Sure! Here's an implementation of a naive Ba...               1   \n",
       "57474  [\"It depends on the context. Weapons can be us...               1   \n",
       "57475  [\"As an AI language model, I do not promote or...               0   \n",
       "57476  [\"If three kids eat three apples in three days...               1   \n",
       "\n",
       "       winner_model_b  winner_tie  label  prompt_len  resp_a_len  resp_b_len  \n",
       "0                   0           0      0         165        4538        1206  \n",
       "1                   1           0      1         200        3114        3649  \n",
       "2                   0           1      2          60         921        1835  \n",
       "3                   0           0      0          87        3182        1562  \n",
       "4                   1           0      1          79        1300         772  \n",
       "...               ...         ...    ...         ...         ...         ...  \n",
       "57472               0           0      0         157         396         557  \n",
       "57473               0           0      0         257        1707        1713  \n",
       "57474               0           0      0         273        8683        1558  \n",
       "57475               1           0      1         110         435         969  \n",
       "57476               0           0      0          95          13         526  \n",
       "\n",
       "[57477 rows x 13 columns]"
      ]
     },
     "execution_count": 2,
     "metadata": {},
     "output_type": "execute_result"
    }
   ],
   "source": [
    "\n",
    "base = '/kaggle/input/llm-classification-finetuning'\n",
    "df = pd.read_csv(f\"{base}/train.csv\")\n",
    "df['label'] = df[['winner_model_a', 'winner_model_b', 'winner_tie']].idxmax(axis=1).map({\n",
    "    'winner_model_a': 0,\n",
    "    'winner_model_b': 1,\n",
    "    'winner_tie': 2\n",
    "})\n",
    "\n",
    "df['prompt_len'] = df['prompt'].str.len()\n",
    "df['resp_a_len'] = df['response_a'].str.len()\n",
    "df['resp_b_len'] = df['response_b'].str.len()\n",
    "\n",
    "df['winner_model_a'].value_counts(normalize=True)\n",
    "\n",
    "df"
   ]
  },
  {
   "cell_type": "markdown",
   "id": "9feaac72",
   "metadata": {
    "papermill": {
     "duration": 0.003495,
     "end_time": "2025-06-24T21:51:59.816346",
     "exception": false,
     "start_time": "2025-06-24T21:51:59.812851",
     "status": "completed"
    },
    "tags": []
   },
   "source": [
    "# 2. Explanatory Data Analysis\n",
    "\n",
    "To have a greater understanding of the dataset there are some questions I would like answered:\n",
    "1. How often does each outcome occur?\n",
    "2. Is there corrlation between length of the prompt/answer and the preferred response?\n",
    "3. Is there bias due to being the first answer?"
   ]
  },
  {
   "cell_type": "code",
   "execution_count": 3,
   "id": "956a2c9a",
   "metadata": {
    "execution": {
     "iopub.execute_input": "2025-06-24T21:51:59.825260Z",
     "iopub.status.busy": "2025-06-24T21:51:59.824488Z",
     "iopub.status.idle": "2025-06-24T21:51:59.843478Z",
     "shell.execute_reply": "2025-06-24T21:51:59.842434Z"
    },
    "papermill": {
     "duration": 0.024956,
     "end_time": "2025-06-24T21:51:59.844888",
     "exception": false,
     "start_time": "2025-06-24T21:51:59.819932",
     "status": "completed"
    },
    "tags": []
   },
   "outputs": [
    {
     "data": {
      "text/html": [
       "<div>\n",
       "<style scoped>\n",
       "    .dataframe tbody tr th:only-of-type {\n",
       "        vertical-align: middle;\n",
       "    }\n",
       "\n",
       "    .dataframe tbody tr th {\n",
       "        vertical-align: top;\n",
       "    }\n",
       "\n",
       "    .dataframe thead th {\n",
       "        text-align: right;\n",
       "    }\n",
       "</style>\n",
       "<table border=\"1\" class=\"dataframe\">\n",
       "  <thead>\n",
       "    <tr style=\"text-align: right;\">\n",
       "      <th></th>\n",
       "      <th>prompt</th>\n",
       "      <th>response_a</th>\n",
       "      <th>response_b</th>\n",
       "      <th>label</th>\n",
       "    </tr>\n",
       "  </thead>\n",
       "  <tbody>\n",
       "    <tr>\n",
       "      <th>20785</th>\n",
       "      <td>[\"whats the point\"]</td>\n",
       "      <td>[\"The point of the prompt is to ask a question...</td>\n",
       "      <td>[\"I'm sorry if my previous response didn't mee...</td>\n",
       "      <td>0</td>\n",
       "    </tr>\n",
       "    <tr>\n",
       "      <th>158</th>\n",
       "      <td>[\"Where is the letter r in blueberry\",\"Traduci...</td>\n",
       "      <td>[\"The letter \\\"r\\\" appears twice in the word \\...</td>\n",
       "      <td>[\"The letter \\\"r\\\" is not present in the word ...</td>\n",
       "      <td>0</td>\n",
       "    </tr>\n",
       "    <tr>\n",
       "      <th>27674</th>\n",
       "      <td>[\"5+55+555+5555+55555-1725=\\n\\nCalculate this ...</td>\n",
       "      <td>[\"Sure! \\n\\n5 + 55 = 60 \\n\\n60 + 555 = 615 \\n\\...</td>\n",
       "      <td>[\"5 + 55 = 60\\n60 + 555 = 625\\n625 + 5555 = 12...</td>\n",
       "      <td>0</td>\n",
       "    </tr>\n",
       "  </tbody>\n",
       "</table>\n",
       "</div>"
      ],
      "text/plain": [
       "                                                  prompt  \\\n",
       "20785                                [\"whats the point\"]   \n",
       "158    [\"Where is the letter r in blueberry\",\"Traduci...   \n",
       "27674  [\"5+55+555+5555+55555-1725=\\n\\nCalculate this ...   \n",
       "\n",
       "                                              response_a  \\\n",
       "20785  [\"The point of the prompt is to ask a question...   \n",
       "158    [\"The letter \\\"r\\\" appears twice in the word \\...   \n",
       "27674  [\"Sure! \\n\\n5 + 55 = 60 \\n\\n60 + 555 = 615 \\n\\...   \n",
       "\n",
       "                                              response_b  label  \n",
       "20785  [\"I'm sorry if my previous response didn't mee...      0  \n",
       "158    [\"The letter \\\"r\\\" is not present in the word ...      0  \n",
       "27674  [\"5 + 55 = 60\\n60 + 555 = 625\\n625 + 5555 = 12...      0  "
      ]
     },
     "execution_count": 3,
     "metadata": {},
     "output_type": "execute_result"
    }
   ],
   "source": [
    "df[['prompt', 'response_a', 'response_b', 'label']].sample(3)"
   ]
  },
  {
   "cell_type": "code",
   "execution_count": 4,
   "id": "28bf5af6",
   "metadata": {
    "execution": {
     "iopub.execute_input": "2025-06-24T21:51:59.854498Z",
     "iopub.status.busy": "2025-06-24T21:51:59.853682Z",
     "iopub.status.idle": "2025-06-24T21:52:00.218626Z",
     "shell.execute_reply": "2025-06-24T21:52:00.217753Z"
    },
    "papermill": {
     "duration": 0.371366,
     "end_time": "2025-06-24T21:52:00.220256",
     "exception": false,
     "start_time": "2025-06-24T21:51:59.848890",
     "status": "completed"
    },
    "tags": []
   },
   "outputs": [
    {
     "data": {
      "text/plain": [
       "<Axes: title={'center': 'Label Distribution'}>"
      ]
     },
     "execution_count": 4,
     "metadata": {},
     "output_type": "execute_result"
    },
    {
     "data": {
      "image/png": "[encoded data removed]",
      "text/plain": [
       "<Figure size 640x480 with 1 Axes>"
      ]
     },
     "metadata": {},
     "output_type": "display_data"
    }
   ],
   "source": [
    "df[[\"winner_model_a\", \"winner_model_b\", \"winner_tie\"]].sum().plot(kind='bar', title='Label Distribution')"
   ]
  },
  {
   "cell_type": "code",
   "execution_count": 5,
   "id": "7545edf3",
   "metadata": {
    "execution": {
     "iopub.execute_input": "2025-06-24T21:52:00.230810Z",
     "iopub.status.busy": "2025-06-24T21:52:00.230504Z",
     "iopub.status.idle": "2025-06-24T21:52:00.859746Z",
     "shell.execute_reply": "2025-06-24T21:52:00.858804Z"
    },
    "papermill": {
     "duration": 0.636472,
     "end_time": "2025-06-24T21:52:00.861300",
     "exception": false,
     "start_time": "2025-06-24T21:52:00.224828",
     "status": "completed"
    },
    "tags": []
   },
   "outputs": [
    {
     "data": {
      "text/plain": [
       "array([[<Axes: title={'center': 'prompt_len'}>,\n",
       "        <Axes: title={'center': 'resp_a_len'}>],\n",
       "       [<Axes: title={'center': 'resp_b_len'}>, <Axes: >]], dtype=object)"
      ]
     },
     "execution_count": 5,
     "metadata": {},
     "output_type": "execute_result"
    },
    {
     "data": {
      "image/png": "[encoded data removed]",
      "text/plain": [
       "<Figure size 1200x400 with 4 Axes>"
      ]
     },
     "metadata": {},
     "output_type": "display_data"
    }
   ],
   "source": [
    "df[['prompt_len', 'resp_a_len', 'resp_b_len']].hist(bins=50, figsize=(12, 4))"
   ]
  },
  {
   "cell_type": "code",
   "execution_count": 6,
   "id": "d326804f",
   "metadata": {
    "execution": {
     "iopub.execute_input": "2025-06-24T21:52:00.872719Z",
     "iopub.status.busy": "2025-06-24T21:52:00.872448Z",
     "iopub.status.idle": "2025-06-24T21:52:01.062081Z",
     "shell.execute_reply": "2025-06-24T21:52:01.061267Z"
    },
    "papermill": {
     "duration": 0.197044,
     "end_time": "2025-06-24T21:52:01.063603",
     "exception": false,
     "start_time": "2025-06-24T21:52:00.866559",
     "status": "completed"
    },
    "tags": []
   },
   "outputs": [
    {
     "data": {
      "text/plain": [
       "<Axes: xlabel='preferred', ylabel='resp_a_len'>"
      ]
     },
     "execution_count": 6,
     "metadata": {},
     "output_type": "execute_result"
    },
    {
     "data": {
      "image/png": "[encoded data removed]",
      "text/plain": [
       "<Figure size 640x480 with 1 Axes>"
      ]
     },
     "metadata": {},
     "output_type": "display_data"
    }
   ],
   "source": [
    "df['preferred'] = df['label'].map({0: 'A', 1: 'B', 2: 'Tie'})\n",
    "sns.boxplot(x='preferred', y='resp_a_len', data=df)\n"
   ]
  },
  {
   "cell_type": "code",
   "execution_count": 7,
   "id": "0a24be3a",
   "metadata": {
    "execution": {
     "iopub.execute_input": "2025-06-24T21:52:01.078325Z",
     "iopub.status.busy": "2025-06-24T21:52:01.077962Z",
     "iopub.status.idle": "2025-06-24T21:52:01.262443Z",
     "shell.execute_reply": "2025-06-24T21:52:01.261612Z"
    },
    "papermill": {
     "duration": 0.19281,
     "end_time": "2025-06-24T21:52:01.263890",
     "exception": false,
     "start_time": "2025-06-24T21:52:01.071080",
     "status": "completed"
    },
    "tags": []
   },
   "outputs": [
    {
     "data": {
      "text/plain": [
       "<Axes: xlabel='preferred', ylabel='resp_b_len'>"
      ]
     },
     "execution_count": 7,
     "metadata": {},
     "output_type": "execute_result"
    },
    {
     "data": {
      "image/png": "[encoded data removed]",
      "text/plain": [
       "<Figure size 640x480 with 1 Axes>"
      ]
     },
     "metadata": {},
     "output_type": "display_data"
    }
   ],
   "source": [
    "sns.boxplot(x='preferred', y='resp_b_len', data=df)"
   ]
  },
  {
   "cell_type": "code",
   "execution_count": 8,
   "id": "cb368e8b",
   "metadata": {
    "execution": {
     "iopub.execute_input": "2025-06-24T21:52:01.277343Z",
     "iopub.status.busy": "2025-06-24T21:52:01.276572Z",
     "iopub.status.idle": "2025-06-24T21:52:01.284242Z",
     "shell.execute_reply": "2025-06-24T21:52:01.283572Z"
    },
    "papermill": {
     "duration": 0.015574,
     "end_time": "2025-06-24T21:52:01.285530",
     "exception": false,
     "start_time": "2025-06-24T21:52:01.269956",
     "status": "completed"
    },
    "tags": []
   },
   "outputs": [
    {
     "data": {
      "text/plain": [
       "label\n",
       "0    0.349079\n",
       "1    0.341911\n",
       "2    0.309011\n",
       "Name: proportion, dtype: float64"
      ]
     },
     "execution_count": 8,
     "metadata": {},
     "output_type": "execute_result"
    }
   ],
   "source": [
    "df['label'].value_counts(normalize=True)"
   ]
  },
  {
   "cell_type": "code",
   "execution_count": 9,
   "id": "ee729df6",
   "metadata": {
    "execution": {
     "iopub.execute_input": "2025-06-24T21:52:01.298505Z",
     "iopub.status.busy": "2025-06-24T21:52:01.298214Z",
     "iopub.status.idle": "2025-06-24T21:52:01.360552Z",
     "shell.execute_reply": "2025-06-24T21:52:01.359698Z"
    },
    "papermill": {
     "duration": 0.070508,
     "end_time": "2025-06-24T21:52:01.362021",
     "exception": false,
     "start_time": "2025-06-24T21:52:01.291513",
     "status": "completed"
    },
    "tags": []
   },
   "outputs": [
    {
     "data": {
      "text/plain": [
       "response_a\n",
       "True    57477\n",
       "Name: count, dtype: int64"
      ]
     },
     "execution_count": 9,
     "metadata": {},
     "output_type": "execute_result"
    }
   ],
   "source": [
    "df.isnull().sum()\n",
    "df['response_a'].apply(lambda x: isinstance(x, str)).value_counts()"
   ]
  },
  {
   "cell_type": "code",
   "execution_count": 10,
   "id": "b88dd4de",
   "metadata": {
    "execution": {
     "iopub.execute_input": "2025-06-24T21:52:01.375491Z",
     "iopub.status.busy": "2025-06-24T21:52:01.375144Z",
     "iopub.status.idle": "2025-06-24T21:52:03.597659Z",
     "shell.execute_reply": "2025-06-24T21:52:03.596487Z"
    },
    "papermill": {
     "duration": 2.231179,
     "end_time": "2025-06-24T21:52:03.599345",
     "exception": false,
     "start_time": "2025-06-24T21:52:01.368166",
     "status": "completed"
    },
    "tags": []
   },
   "outputs": [
    {
     "data": {
      "text/html": [
       "<iframe\n",
       "    scrolling=\"no\"\n",
       "    width=\"100%\"\n",
       "    height=\"420\"\n",
       "    src=\"iframe_figures/figure_10.html\"\n",
       "    frameborder=\"0\"\n",
       "    allowfullscreen\n",
       "></iframe>\n"
      ]
     },
     "metadata": {},
     "output_type": "display_data"
    }
   ],
   "source": [
    "pio.renderers.default = 'iframe'\n",
    "\n",
    "fig = px.bar(pd.concat([df[\"model_a\"], df[\"model_b\"]]).value_counts(),\n",
    "             title=\"Battle Count for Each Model\", text_auto=True)\n",
    "fig.update_layout(xaxis_title=\"model\", yaxis_title=\"Battle Count\", height=400,\n",
    "                  showlegend=False)\n",
    "fig  "
   ]
  },
  {
   "cell_type": "code",
   "execution_count": 11,
   "id": "401754bf",
   "metadata": {
    "execution": {
     "iopub.execute_input": "2025-06-24T21:52:03.613858Z",
     "iopub.status.busy": "2025-06-24T21:52:03.613578Z",
     "iopub.status.idle": "2025-06-24T21:52:03.718389Z",
     "shell.execute_reply": "2025-06-24T21:52:03.717648Z"
    },
    "papermill": {
     "duration": 0.113776,
     "end_time": "2025-06-24T21:52:03.719875",
     "exception": false,
     "start_time": "2025-06-24T21:52:03.606099",
     "status": "completed"
    },
    "tags": []
   },
   "outputs": [
    {
     "data": {
      "text/html": [
       "<iframe\n",
       "    scrolling=\"no\"\n",
       "    width=\"100%\"\n",
       "    height=\"420\"\n",
       "    src=\"iframe_figures/figure_11.html\"\n",
       "    frameborder=\"0\"\n",
       "    allowfullscreen\n",
       "></iframe>\n"
      ]
     },
     "metadata": {},
     "output_type": "display_data"
    }
   ],
   "source": [
    "winners = pd.Series(\n",
    "    data=pd.concat([\n",
    "        df.loc[df['winner_model_a'] == 1, 'model_a'],\n",
    "        df.loc[df['winner_model_b'] == 1, 'model_b']\n",
    "    ])\n",
    ")\n",
    "\n",
    "win_counts = winners.value_counts()\n",
    "\n",
    "fig = px.bar(\n",
    "    win_counts,\n",
    "    title=\"Win Count for Each Model\",\n",
    "    text_auto=True\n",
    ")\n",
    "fig.update_layout(\n",
    "    xaxis_title=\"Model\",\n",
    "    yaxis_title=\"Win Count\",\n",
    "    height=400,\n",
    "    showlegend=False\n",
    ")\n",
    "\n",
    "fig\n"
   ]
  },
  {
   "cell_type": "markdown",
   "id": "f23d3a26",
   "metadata": {
    "papermill": {
     "duration": 0.005891,
     "end_time": "2025-06-24T21:52:03.732051",
     "exception": false,
     "start_time": "2025-06-24T21:52:03.726160",
     "status": "completed"
    },
    "tags": []
   },
   "source": [
    "# 3. Build Model\n",
    "\n",
    "Since ML models cannot understand raw text directly, we should start off by sentence embedding(numerical representation) of the prompt + response_x.\n",
    "\n",
    "Now we can use the 2 numerical outputs to compare how they differ (the difference) and how they are similar (the product)."
   ]
  },
  {
   "cell_type": "code",
   "execution_count": 12,
   "id": "08d840db",
   "metadata": {
    "execution": {
     "iopub.execute_input": "2025-06-24T21:52:03.745225Z",
     "iopub.status.busy": "2025-06-24T21:52:03.744909Z",
     "iopub.status.idle": "2025-06-24T21:52:04.596073Z",
     "shell.execute_reply": "2025-06-24T21:52:04.595106Z"
    },
    "papermill": {
     "duration": 0.859686,
     "end_time": "2025-06-24T21:52:04.597705",
     "exception": false,
     "start_time": "2025-06-24T21:52:03.738019",
     "status": "completed"
    },
    "tags": []
   },
   "outputs": [
    {
     "name": "stdout",
     "output_type": "stream",
     "text": [
      "[LightGBM] [Info] Auto-choosing col-wise multi-threading, the overhead of testing was 0.003135 seconds.\n",
      "You can set `force_col_wise=true` to remove the overhead.\n",
      "[LightGBM] [Info] Total Bins 765\n",
      "[LightGBM] [Info] Number of data points in the train set: 45981, number of used features: 3\n",
      "[LightGBM] [Info] Start training from score -1.052457\n",
      "[LightGBM] [Info] Start training from score -1.073231\n",
      "[LightGBM] [Info] Start training from score -1.174353\n"
     ]
    },
    {
     "data": {
      "text/html": [
       "<style>#sk-container-id-1 {color: black;background-color: white;}#sk-container-id-1 pre{padding: 0;}#sk-container-id-1 div.sk-toggleable {background-color: white;}#sk-container-id-1 label.sk-toggleable__label {cursor: pointer;display: block;width: 100%;margin-bottom: 0;padding: 0.3em;box-sizing: border-box;text-align: center;}#sk-container-id-1 label.sk-toggleable__label-arrow:before {content: \"▸\";float: left;margin-right: 0.25em;color: #696969;}#sk-container-id-1 label.sk-toggleable__label-arrow:hover:before {color: black;}#sk-container-id-1 div.sk-estimator:hover label.sk-toggleable__label-arrow:before {color: black;}#sk-container-id-1 div.sk-toggleable__content {max-height: 0;max-width: 0;overflow: hidden;text-align: left;background-color: #f0f8ff;}#sk-container-id-1 div.sk-toggleable__content pre {margin: 0.2em;color: black;border-radius: 0.25em;background-color: #f0f8ff;}#sk-container-id-1 input.sk-toggleable__control:checked~div.sk-toggleable__content {max-height: 200px;max-width: 100%;overflow: auto;}#sk-container-id-1 input.sk-toggleable__control:checked~label.sk-toggleable__label-arrow:before {content: \"▾\";}#sk-container-id-1 div.sk-estimator input.sk-toggleable__control:checked~label.sk-toggleable__label {background-color: #d4ebff;}#sk-container-id-1 div.sk-label input.sk-toggleable__control:checked~label.sk-toggleable__label {background-color: #d4ebff;}#sk-container-id-1 input.sk-hidden--visually {border: 0;clip: rect(1px 1px 1px 1px);clip: rect(1px, 1px, 1px, 1px);height: 1px;margin: -1px;overflow: hidden;padding: 0;position: absolute;width: 1px;}#sk-container-id-1 div.sk-estimator {font-family: monospace;background-color: #f0f8ff;border: 1px dotted black;border-radius: 0.25em;box-sizing: border-box;margin-bottom: 0.5em;}#sk-container-id-1 div.sk-estimator:hover {background-color: #d4ebff;}#sk-container-id-1 div.sk-parallel-item::after {content: \"\";width: 100%;border-bottom: 1px solid gray;flex-grow: 1;}#sk-container-id-1 div.sk-label:hover label.sk-toggleable__label {background-color: #d4ebff;}#sk-container-id-1 div.sk-serial::before {content: \"\";position: absolute;border-left: 1px solid gray;box-sizing: border-box;top: 0;bottom: 0;left: 50%;z-index: 0;}#sk-container-id-1 div.sk-serial {display: flex;flex-direction: column;align-items: center;background-color: white;padding-right: 0.2em;padding-left: 0.2em;position: relative;}#sk-container-id-1 div.sk-item {position: relative;z-index: 1;}#sk-container-id-1 div.sk-parallel {display: flex;align-items: stretch;justify-content: center;background-color: white;position: relative;}#sk-container-id-1 div.sk-item::before, #sk-container-id-1 div.sk-parallel-item::before {content: \"\";position: absolute;border-left: 1px solid gray;box-sizing: border-box;top: 0;bottom: 0;left: 50%;z-index: -1;}#sk-container-id-1 div.sk-parallel-item {display: flex;flex-direction: column;z-index: 1;position: relative;background-color: white;}#sk-container-id-1 div.sk-parallel-item:first-child::after {align-self: flex-end;width: 50%;}#sk-container-id-1 div.sk-parallel-item:last-child::after {align-self: flex-start;width: 50%;}#sk-container-id-1 div.sk-parallel-item:only-child::after {width: 0;}#sk-container-id-1 div.sk-dashed-wrapped {border: 1px dashed gray;margin: 0 0.4em 0.5em 0.4em;box-sizing: border-box;padding-bottom: 0.4em;background-color: white;}#sk-container-id-1 div.sk-label label {font-family: monospace;font-weight: bold;display: inline-block;line-height: 1.2em;}#sk-container-id-1 div.sk-label-container {text-align: center;}#sk-container-id-1 div.sk-container {/* jupyter's `normalize.less` sets `[hidden] { display: none; }` but bootstrap.min.css set `[hidden] { display: none !important; }` so we also need the `!important` here to be able to override the default hidden behavior on the sphinx rendered scikit-learn.org. See: https://github.com/scikit-learn/scikit-learn/issues/21755 */display: inline-block !important;position: relative;}#sk-container-id-1 div.sk-text-repr-fallback {display: none;}</style><div id=\"sk-container-id-1\" class=\"sk-top-container\"><div class=\"sk-text-repr-fallback\"><pre>LGBMClassifier(learning_rate=0.05, num_class=3, objective=&#x27;multiclass&#x27;,\n",
       "               random_state=42)</pre><b>In a Jupyter environment, please rerun this cell to show the HTML representation or trust the notebook. <br />On GitHub, the HTML representation is unable to render, please try loading this page with nbviewer.org.</b></div><div class=\"sk-container\" hidden><div class=\"sk-item\"><div class=\"sk-estimator sk-toggleable\"><input class=\"sk-toggleable__control sk-hidden--visually\" id=\"sk-estimator-id-1\" type=\"checkbox\" checked><label for=\"sk-estimator-id-1\" class=\"sk-toggleable__label sk-toggleable__label-arrow\">LGBMClassifier</label><div class=\"sk-toggleable__content\"><pre>LGBMClassifier(learning_rate=0.05, num_class=3, objective=&#x27;multiclass&#x27;,\n",
       "               random_state=42)</pre></div></div></div></div></div>"
      ],
      "text/plain": [
       "LGBMClassifier(learning_rate=0.05, num_class=3, objective='multiclass',\n",
       "               random_state=42)"
      ]
     },
     "execution_count": 12,
     "metadata": {},
     "output_type": "execute_result"
    }
   ],
   "source": [
    "features = ['prompt_len', 'resp_a_len', 'resp_b_len']\n",
    "target = 'label'\n",
    "\n",
    "X = df[features]\n",
    "y = df[target]\n",
    "\n",
    "X_train, X_val, y_train, y_val = train_test_split(X, y, stratify=y, test_size=0.2, random_state=42)\n",
    "\n",
    "model = LGBMClassifier(\n",
    "    objective='multiclass',\n",
    "    num_class=3,           # Because 3 classes: model_a, model_b, tie\n",
    "    random_state=42,\n",
    "    n_estimators=100,\n",
    "    learning_rate=0.05\n",
    ")\n",
    "\n",
    "model.fit(X_train, y_train)"
   ]
  },
  {
   "cell_type": "code",
   "execution_count": 13,
   "id": "0aecf90d",
   "metadata": {
    "execution": {
     "iopub.execute_input": "2025-06-24T21:52:04.613341Z",
     "iopub.status.busy": "2025-06-24T21:52:04.613003Z",
     "iopub.status.idle": "2025-06-24T21:52:04.744145Z",
     "shell.execute_reply": "2025-06-24T21:52:04.743152Z"
    },
    "papermill": {
     "duration": 0.140407,
     "end_time": "2025-06-24T21:52:04.745654",
     "exception": false,
     "start_time": "2025-06-24T21:52:04.605247",
     "status": "completed"
    },
    "tags": []
   },
   "outputs": [
    {
     "name": "stdout",
     "output_type": "stream",
     "text": [
      "Validation Log Loss: 1.0516\n"
     ]
    }
   ],
   "source": [
    "y_pred_proba = model.predict_proba(X_val)\n",
    "loss = log_loss(y_val, y_pred_proba)\n",
    "print(f\"Validation Log Loss: {loss:.4f}\")"
   ]
  },
  {
   "cell_type": "markdown",
   "id": "e30c264f",
   "metadata": {
    "papermill": {
     "duration": 0.006224,
     "end_time": "2025-06-24T21:52:04.758599",
     "exception": false,
     "start_time": "2025-06-24T21:52:04.752375",
     "status": "completed"
    },
    "tags": []
   },
   "source": []
  }
 ],
 "metadata": {
  "kaggle": {
   "accelerator": "none",
   "dataSources": [
    {
     "databundleVersionId": 9809560,
     "sourceId": 86518,
     "sourceType": "competition"
    }
   ],
   "dockerImageVersionId": 31040,
   "isGpuEnabled": false,
   "isInternetEnabled": true,
   "language": "python",
   "sourceType": "notebook"
  },
  "kernelspec": {
   "display_name": "Python 3",
   "language": "python",
   "name": "python3"
  },
  "language_info": {
   "codemirror_mode": {
    "name": "ipython",
    "version": 3
   },
   "file_extension": ".py",
   "mimetype": "text/x-python",
   "name": "python",
   "nbconvert_exporter": "python",
   "pygments_lexer": "ipython3",
   "version": "3.11.11"
  },
  "papermill": {
   "default_parameters": {},
   "duration": 25.374677,
   "end_time": "2025-06-24T21:52:05.985665",
   "environment_variables": {},
   "exception": null,
   "input_path": "__notebook__.ipynb",
   "output_path": "__notebook__.ipynb",
   "parameters": {},
   "start_time": "2025-06-24T21:51:40.610988",
   "version": "2.6.0"
  }
 },
 "nbformat": 4,
 "nbformat_minor": 5
}
